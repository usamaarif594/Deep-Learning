{
 "cells": [
  {
   "cell_type": "code",
   "execution_count": 102,
   "id": "34705e9f-808c-40c9-8bf4-09a431fe6a5d",
   "metadata": {},
   "outputs": [],
   "source": [
    "import numpy as np\n",
    "import pandas as pd\n",
    "from PIL import Image\n",
    "import os\n",
    "from sklearn.model_selection import train_test_split\n",
    "from tensorflow import keras\n",
    "import matplotlib.pyplot as plt\n",
    "import tensorflow as  tf\n",
    "from tensorflow.keras import layers, losses\n",
    "from tensorflow.keras.datasets import fashion_mnist\n"
   ]
  },
  {
   "cell_type": "code",
   "execution_count": 103,
   "id": "63062f47-5f86-416c-ac67-c37b476569dc",
   "metadata": {},
   "outputs": [],
   "source": [
    "# path='archive/Ground_truth'"
   ]
  },
  {
   "cell_type": "code",
   "execution_count": 104,
   "id": "c795b4d5-1bef-416f-a955-058bde9ee257",
   "metadata": {},
   "outputs": [],
   "source": [
    "\n",
    "# def load_images(directory,image_size=(200,200)):\n",
    "#     images=[]\n",
    "#     for filename in os.listdir(path):\n",
    "#         image_path=os.path.join(directory,filename)\n",
    "#         image=Image.open(image_path)\n",
    "#         image=image.resize(image_size)\n",
    "#         image_array=np.array(image)/255.\n",
    "#         images.append(image_array)\n",
    "#     return np.array(images)\n",
    "        \n",
    "        "
   ]
  },
  {
   "cell_type": "code",
   "execution_count": 105,
   "id": "e2ee97d1-c756-4c53-8f20-37e7fa8a5b05",
   "metadata": {},
   "outputs": [],
   "source": [
    "# images=load_images(path)\n",
    "# images=np.expand_dims(images,axis=-1)"
   ]
  },
  {
   "cell_type": "code",
   "execution_count": 106,
   "id": "2b7182be-d26a-430a-aa78-401f104b6b93",
   "metadata": {},
   "outputs": [],
   "source": [
    "# x_train,x_test=train_test_split(images,test_size=0.2,random_state=101)"
   ]
  },
  {
   "cell_type": "code",
   "execution_count": 107,
   "id": "4e9ee60d-7e15-460d-9edc-eb45bdf0cd8b",
   "metadata": {},
   "outputs": [
    {
     "name": "stdout",
     "output_type": "stream",
     "text": [
      "Downloading data from https://storage.googleapis.com/tensorflow/tf-keras-datasets/train-labels-idx1-ubyte.gz\n",
      "29515/29515 [==============================] - 0s 6us/step\n",
      "Downloading data from https://storage.googleapis.com/tensorflow/tf-keras-datasets/train-images-idx3-ubyte.gz\n",
      "26421880/26421880 [==============================] - 126s 5us/step\n",
      "Downloading data from https://storage.googleapis.com/tensorflow/tf-keras-datasets/t10k-labels-idx1-ubyte.gz\n",
      "5148/5148 [==============================] - 0s 0s/step\n",
      "Downloading data from https://storage.googleapis.com/tensorflow/tf-keras-datasets/t10k-images-idx3-ubyte.gz\n",
      "4422102/4422102 [==============================] - 10s 2us/step\n",
      "(60000, 28, 28)\n",
      "(10000, 28, 28)\n"
     ]
    }
   ],
   "source": [
    "(x_train, _), (x_test, _) = fashion_mnist.load_data()\n",
    "\n",
    "x_train = x_train.astype('float32') / 255.\n",
    "x_test = x_test.astype('float32') / 255.\n",
    "\n",
    "print (x_train.shape)\n",
    "print (x_test.shape)"
   ]
  },
  {
   "cell_type": "code",
   "execution_count": 108,
   "id": "a0ec4ce1-3aa1-4944-9932-91c5205a97be",
   "metadata": {},
   "outputs": [
    {
     "data": {
      "image/png": "[encoded data removed]",
      "text/plain": [
       "<Figure size 1600x1000 with 5 Axes>"
      ]
     },
     "metadata": {},
     "output_type": "display_data"
    }
   ],
   "source": [
    "n = 5\n",
    "plt.figure(figsize=(16, 10))\n",
    "for i in range(n):\n",
    "    ax = plt.subplot(1, n, i + 1)\n",
    "    plt.title(\"original\")\n",
    "    plt.imshow(tf.squeeze(x_test[i]))\n",
    "    plt.gray()\n",
    "plt.show()"
   ]
  },
  {
   "cell_type": "markdown",
   "id": "ab7611c0-1f71-4882-9440-64064eabf974",
   "metadata": {},
   "source": [
    "# Vanila Auto Encoder"
   ]
  },
  {
   "cell_type": "code",
   "execution_count": 114,
   "id": "639264a2-1114-4906-ac43-cd0a24e7e6b7",
   "metadata": {},
   "outputs": [],
   "source": [
    "encoder=keras.models.Sequential([\n",
    "                keras.layers.Flatten(input_shape=(28,28,1)),\n",
    "                keras.layers.Dense(100,activation='relu'),\n",
    "                keras.layers.Dense(30,activation='relu')    \n",
    "])"
   ]
  },
  {
   "cell_type": "code",
   "execution_count": 115,
   "id": "fc3d33c1-0553-4b70-93b8-5eb62ff80dde",
   "metadata": {},
   "outputs": [],
   "source": [
    "decoder=keras.models.Sequential([\n",
    "        keras.layers.Dense(100,input_shape=[30]),\n",
    "        keras.layers.Dense(28*28*1,activation='sigmoid'),\n",
    "        keras.layers.Reshape([28,28,1]) \n",
    "] )"
   ]
  },
  {
   "cell_type": "markdown",
   "id": "b112d8c8-83db-4901-aff4-9a98b8c7322f",
   "metadata": {},
   "source": [
    "# Stacking encoder and decoder"
   ]
  },
  {
   "cell_type": "code",
   "execution_count": 116,
   "id": "b8e50146-fe58-4953-bb03-d098a16d3ba8",
   "metadata": {},
   "outputs": [],
   "source": [
    "autoencoder=keras.models.Sequential([encoder,decoder])"
   ]
  },
  {
   "cell_type": "markdown",
   "id": "6b30c3cf-7a76-4b5b-9b7e-06ad26a8a0b0",
   "metadata": {},
   "source": [
    "# Compiling autoencoder"
   ]
  },
  {
   "cell_type": "code",
   "execution_count": 117,
   "id": "9ef73364-0a28-4b4d-ac01-7c5a6479dc36",
   "metadata": {},
   "outputs": [],
   "source": [
    "autoencoder.compile(loss='binary_crossentropy',\n",
    "                   optimizer='rmsprop')"
   ]
  },
  {
   "cell_type": "markdown",
   "id": "1ad5bb9d-ba2f-4274-825d-916db5e2413b",
   "metadata": {},
   "source": [
    "# Fitting autoencoder"
   ]
  },
  {
   "cell_type": "code",
   "execution_count": null,
   "id": "4e436535-e781-4160-afcf-1b30c5fd6030",
   "metadata": {},
   "outputs": [
    {
     "name": "stdout",
     "output_type": "stream",
     "text": [
      "Epoch 1/50\n",
      "1875/1875 [==============================] - 11s 5ms/step - loss: 0.3342 - val_loss: 0.3109\n",
      "Epoch 2/50\n",
      "1875/1875 [==============================] - 9s 5ms/step - loss: 0.3010 - val_loss: 0.3058\n",
      "Epoch 3/50\n",
      "1875/1875 [==============================] - 10s 5ms/step - loss: 0.2933 - val_loss: 0.2929\n",
      "Epoch 4/50\n",
      "1875/1875 [==============================] - 9s 5ms/step - loss: 0.2894 - val_loss: 0.2893\n",
      "Epoch 5/50\n",
      "1875/1875 [==============================] - 9s 5ms/step - loss: 0.2870 - val_loss: 0.2914\n",
      "Epoch 6/50\n",
      "1875/1875 [==============================] - 9s 5ms/step - loss: 0.2854 - val_loss: 0.2861\n",
      "Epoch 7/50\n",
      "1875/1875 [==============================] - 9s 5ms/step - loss: 0.2842 - val_loss: 0.2852\n",
      "Epoch 8/50\n",
      "1875/1875 [==============================] - 9s 5ms/step - loss: 0.2834 - val_loss: 0.2855\n",
      "Epoch 9/50\n",
      "1875/1875 [==============================] - 9s 5ms/step - loss: 0.2827 - val_loss: 0.2862\n",
      "Epoch 10/50\n",
      "1875/1875 [==============================] - 9s 5ms/step - loss: 0.2822 - val_loss: 0.2839\n",
      "Epoch 11/50\n",
      "1875/1875 [==============================] - 9s 5ms/step - loss: 0.2817 - val_loss: 0.2838\n",
      "Epoch 12/50\n",
      "1875/1875 [==============================] - 9s 5ms/step - loss: 0.2814 - val_loss: 0.2837\n",
      "Epoch 13/50\n",
      "1875/1875 [==============================] - 9s 5ms/step - loss: 0.2811 - val_loss: 0.2825\n",
      "Epoch 14/50\n",
      "1875/1875 [==============================] - 9s 5ms/step - loss: 0.2808 - val_loss: 0.2826\n",
      "Epoch 15/50\n",
      "1875/1875 [==============================] - 9s 5ms/step - loss: 0.2805 - val_loss: 0.2832\n",
      "Epoch 16/50\n",
      "1875/1875 [==============================] - 9s 5ms/step - loss: 0.2803 - val_loss: 0.2828\n",
      "Epoch 17/50\n",
      "1875/1875 [==============================] - 9s 5ms/step - loss: 0.2801 - val_loss: 0.2817\n",
      "Epoch 18/50\n",
      "1875/1875 [==============================] - 9s 5ms/step - loss: 0.2800 - val_loss: 0.2830\n",
      "Epoch 19/50\n",
      "1875/1875 [==============================] - 9s 5ms/step - loss: 0.2798 - val_loss: 0.2814\n",
      "Epoch 20/50\n",
      "1875/1875 [==============================] - 9s 5ms/step - loss: 0.2797 - val_loss: 0.2808\n",
      "Epoch 21/50\n",
      "1875/1875 [==============================] - 9s 5ms/step - loss: 0.2795 - val_loss: 0.2811\n",
      "Epoch 22/50\n",
      "1875/1875 [==============================] - 9s 5ms/step - loss: 0.2795 - val_loss: 0.2823\n",
      "Epoch 23/50\n",
      "1875/1875 [==============================] - 10s 5ms/step - loss: 0.2793 - val_loss: 0.2817\n",
      "Epoch 24/50\n",
      "1875/1875 [==============================] - 9s 5ms/step - loss: 0.2792 - val_loss: 0.2823\n",
      "Epoch 25/50\n",
      "1875/1875 [==============================] - 9s 5ms/step - loss: 0.2791 - val_loss: 0.2825\n",
      "Epoch 26/50\n",
      "1875/1875 [==============================] - 9s 5ms/step - loss: 0.2790 - val_loss: 0.2815\n",
      "Epoch 27/50\n",
      "1875/1875 [==============================] - 10s 5ms/step - loss: 0.2790 - val_loss: 0.2820\n",
      "Epoch 28/50\n",
      "1875/1875 [==============================] - 10s 5ms/step - loss: 0.2789 - val_loss: 0.2817\n",
      "Epoch 29/50\n",
      "1875/1875 [==============================] - 9s 5ms/step - loss: 0.2788 - val_loss: 0.2838\n",
      "Epoch 30/50\n",
      "1875/1875 [==============================] - 9s 5ms/step - loss: 0.2787 - val_loss: 0.2801\n",
      "Epoch 31/50\n",
      "1875/1875 [==============================] - 9s 5ms/step - loss: 0.2787 - val_loss: 0.2810\n",
      "Epoch 32/50\n",
      "1875/1875 [==============================] - 9s 5ms/step - loss: 0.2786 - val_loss: 0.2815\n",
      "Epoch 33/50\n",
      " 114/1875 [>.............................] - ETA: 8s - loss: 0.2792"
     ]
    }
   ],
   "source": [
    "history=autoencoder.fit(x_train,x_train,\n",
    "               epochs=50,\n",
    "               validation_data=[x_test,x_test])"
   ]
  },
  {
   "cell_type": "code",
   "execution_count": null,
   "id": "803e1ef2-86ee-487e-8751-480c213f9f7c",
   "metadata": {},
   "outputs": [],
   "source": [
    "encoded_imgs = encoder.predict(x_test)\n",
    "decoded_imgs = decoder.predict(encoded_imgs)"
   ]
  },
  {
   "cell_type": "code",
   "execution_count": null,
   "id": "195149df-f5d2-4954-af36-1ddbe06d215e",
   "metadata": {},
   "outputs": [],
   "source": [
    "n = 5\n",
    "plt.figure(figsize=(10, 6))\n",
    "for i in range(n):\n",
    "\n",
    "    # display original + noise\n",
    "    ax = plt.subplot(2, n, i + 1)\n",
    "    plt.title(\"original\")\n",
    "    plt.imshow(tf.squeeze(x_test[i]))\n",
    "    plt.gray()\n",
    "    ax.get_xaxis().set_visible(False)\n",
    "    ax.get_yaxis().set_visible(False)\n",
    "\n",
    "    # display reconstruction\n",
    "    bx = plt.subplot(2, n, i + n + 1)\n",
    "    plt.title(\"reconstructed\")\n",
    "    plt.imshow(tf.squeeze(decoded_imgs[i]))\n",
    "    plt.gray()\n",
    "    bx.get_xaxis().set_visible(False)\n",
    "    bx.get_yaxis().set_visible(False)\n",
    "plt.show()"
   ]
  },
  {
   "cell_type": "code",
   "execution_count": null,
   "id": "27f6dbc4-19f9-4fc9-89db-0362a71ebcda",
   "metadata": {},
   "outputs": [],
   "source": []
  },
  {
   "cell_type": "code",
   "execution_count": null,
   "id": "e7cf7db4-2a4d-443c-9d61-2507cdde51ed",
   "metadata": {},
   "outputs": [],
   "source": []
  },
  {
   "cell_type": "code",
   "execution_count": null,
   "id": "9ad38825-7f50-4e5e-9268-5693d9d97f2e",
   "metadata": {},
   "outputs": [],
   "source": []
  },
  {
   "cell_type": "code",
   "execution_count": null,
   "id": "862c7d4c-5792-4b36-b9bb-2ba00ca0aa71",
   "metadata": {},
   "outputs": [],
   "source": []
  }
 ],
 "metadata": {
  "kernelspec": {
   "display_name": "Python 3 (ipykernel)",
   "language": "python",
   "name": "python3"
  },
  "language_info": {
   "codemirror_mode": {
    "name": "ipython",
    "version": 3
   },
   "file_extension": ".py",
   "mimetype": "text/x-python",
   "name": "python",
   "nbconvert_exporter": "python",
   "pygments_lexer": "ipython3",
   "version": "3.11.0"
  }
 },
 "nbformat": 4,
 "nbformat_minor": 5
}
